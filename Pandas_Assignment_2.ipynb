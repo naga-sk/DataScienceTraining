{
  "nbformat": 4,
  "nbformat_minor": 0,
  "metadata": {
    "colab": {
      "name": "Pandas Assignment 2.ipynb",
      "provenance": [],
      "authorship_tag": "ABX9TyOR3Med6i1B/L5A8FV3MxLd",
      "include_colab_link": true
    },
    "kernelspec": {
      "name": "python3",
      "display_name": "Python 3"
    },
    "language_info": {
      "name": "python"
    }
  },
  "cells": [
    {
      "cell_type": "markdown",
      "metadata": {
        "id": "view-in-github",
        "colab_type": "text"
      },
      "source": [
        "<a href=\"https://colab.research.google.com/github/naga-sk/DataScienceTraining/blob/main/Pandas_Assignment_2.ipynb\" target=\"_parent\"><img src=\"https://colab.research.google.com/assets/colab-badge.svg\" alt=\"Open In Colab\"/></a>"
      ]
    },
    {
      "cell_type": "markdown",
      "source": [
        "# Please read the below questions and do following operations as appropriate. Feel free to Google the functions or “?” operator (after any function) to see the documentation in Jupyter notebook\n"
      ],
      "metadata": {
        "id": "QLDR_dAZ43Po"
      }
    },
    {
      "cell_type": "markdown",
      "source": [
        "1.\tRead the demand transaction file and print the first 15 rows and dtypes\n"
      ],
      "metadata": {
        "id": "gz25ObP75E0z"
      }
    },
    {
      "cell_type": "code",
      "source": [
        ""
      ],
      "metadata": {
        "id": "T6hD8ivn5hcw"
      },
      "execution_count": null,
      "outputs": []
    },
    {
      "cell_type": "markdown",
      "source": [
        "2.\tConvert the transaction date column to a date column using pd.to_datetime function"
      ],
      "metadata": {
        "id": "8LjtY8HG5Ko5"
      }
    },
    {
      "cell_type": "code",
      "source": [
        ""
      ],
      "metadata": {
        "id": "TqGtlfuc5iAy"
      },
      "execution_count": null,
      "outputs": []
    },
    {
      "cell_type": "markdown",
      "source": [
        "3.\tSubset the dataframe for transaction date greater than '2016-08-01'"
      ],
      "metadata": {
        "id": "MfNDtiMi5M_u"
      }
    },
    {
      "cell_type": "code",
      "source": [
        ""
      ],
      "metadata": {
        "id": "NgbHRktd5igE"
      },
      "execution_count": null,
      "outputs": []
    },
    {
      "cell_type": "markdown",
      "source": [
        "4.\tLook for unique values in Mapped_Sales_Type"
      ],
      "metadata": {
        "id": "s-91RTRU5RPm"
      }
    },
    {
      "cell_type": "code",
      "source": [
        ""
      ],
      "metadata": {
        "id": "rVsZ6Cjw5jKm"
      },
      "execution_count": null,
      "outputs": []
    },
    {
      "cell_type": "markdown",
      "source": [
        "5.\tSubset the entire dataframe, based on the below condition, to a new dataframe and work on the following questions\n",
        "a.\tCondition: Avg_Discount_Percent_On_Discounted_Items should be less than 1.0\n",
        "b.\tCheck for sanity if the new dataframe contains Avg_Discount_Percent_On_Discounted_Items greater than or equal to 1.0"
      ],
      "metadata": {
        "id": "fJ3An1Py5TNA"
      }
    },
    {
      "cell_type": "code",
      "source": [
        ""
      ],
      "metadata": {
        "id": "5OPsaXuZ5jl1"
      },
      "execution_count": null,
      "outputs": []
    },
    {
      "cell_type": "markdown",
      "source": [
        "6.\tGroupby 'City', 'Mapped_Sales_Type', 'Mapped_Item_Code', 'Transaction_Date' and perform following aggregate operations on respective columns as mentioned (note: Only one groupby to do all the below aggregations)\n",
        "a.\tQuantity_Sold – sum\n",
        "b.\tMedian_Price – median\n",
        "c.\tEffective_Price – median"
      ],
      "metadata": {
        "id": "k2NXB8t65VVC"
      }
    },
    {
      "cell_type": "code",
      "source": [
        ""
      ],
      "metadata": {
        "id": "wU75q2765kPU"
      },
      "execution_count": null,
      "outputs": []
    },
    {
      "cell_type": "markdown",
      "source": [
        "7.\tDisplay the data for Effective_Price = not null and just print the last 5 rows (hint: use .notnull function)"
      ],
      "metadata": {
        "id": "Z3ZOTHtx5W-U"
      }
    },
    {
      "cell_type": "code",
      "source": [
        ""
      ],
      "metadata": {
        "id": "5URzrzPq5k8k"
      },
      "execution_count": null,
      "outputs": []
    },
    {
      "cell_type": "markdown",
      "source": [
        "8.\tDisplay the data for city = Chennai AND Mapped_Sales_Type = Delivery and print top 5 records (hint use loc function to subset, then “&” operator to filter both the above cities)"
      ],
      "metadata": {
        "id": "Z09L8PPD5YxG"
      }
    },
    {
      "cell_type": "code",
      "source": [
        ""
      ],
      "metadata": {
        "id": "9-oRX2eZ5ldX"
      },
      "execution_count": null,
      "outputs": []
    },
    {
      "cell_type": "markdown",
      "source": [
        "9.\t Display the data for the column “Day” with values Mon, Tue and Wed (hint: use .isin function)"
      ],
      "metadata": {
        "id": "Wa0Iv_I-5aYq"
      }
    },
    {
      "cell_type": "code",
      "source": [
        ""
      ],
      "metadata": {
        "id": "1xP2IA_E5mDH"
      },
      "execution_count": null,
      "outputs": []
    },
    {
      "cell_type": "markdown",
      "source": [
        "10.\tDisplay the data for Percent_Quantity_With_Discount not equal to 0.0 (hint: loc function with != operator)"
      ],
      "metadata": {
        "id": "twGD9AIC5b9n"
      }
    },
    {
      "cell_type": "code",
      "source": [
        ""
      ],
      "metadata": {
        "id": "qk0FrvlJ5mhP"
      },
      "execution_count": null,
      "outputs": []
    },
    {
      "cell_type": "markdown",
      "source": [
        "11.\tAdd a column “Range” to the existing dataframe for below condition\n",
        "a.\t1 for Effective_Price > 500\n",
        "b.\t0.5 otherwise"
      ],
      "metadata": {
        "id": "t1mIGltS5dpy"
      }
    },
    {
      "cell_type": "code",
      "source": [
        ""
      ],
      "metadata": {
        "id": "MpLXTJaP5nJD"
      },
      "execution_count": null,
      "outputs": []
    },
    {
      "cell_type": "markdown",
      "source": [
        "12.\tRead the demand transaction file again and perform following operations for practice\n",
        "a.\tHandle the missing values in the column Percent_Quantity_With_Discount with strategy = mean"
      ],
      "metadata": {
        "id": "OlORrRy15ffy"
      }
    },
    {
      "cell_type": "code",
      "execution_count": null,
      "metadata": {
        "id": "0_w4JFHd42xe"
      },
      "outputs": [],
      "source": [
        ""
      ]
    }
  ]
}