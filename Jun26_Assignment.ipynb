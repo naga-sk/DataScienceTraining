{
  "nbformat": 4,
  "nbformat_minor": 0,
  "metadata": {
    "colab": {
      "name": "Jun26 Assignment.ipynb",
      "provenance": [],
      "collapsed_sections": []
    },
    "kernelspec": {
      "name": "python3",
      "display_name": "Python 3"
    },
    "language_info": {
      "name": "python"
    }
  },
  "cells": [
    {
      "cell_type": "code",
      "source": [
        "print (\"Hello Universe!\")"
      ],
      "metadata": {
        "id": "qhfXswvth0-r",
        "outputId": "49cd6496-07ae-4ee1-b379-9e0dd1f80f2a",
        "colab": {
          "base_uri": "https://localhost:8080/"
        }
      },
      "execution_count": 1,
      "outputs": [
        {
          "output_type": "stream",
          "name": "stdout",
          "text": [
            "Hello Universe!\n"
          ]
        }
      ]
    },
    {
      "cell_type": "code",
      "execution_count": null,
      "metadata": {
        "colab": {
          "base_uri": "https://localhost:8080/"
        },
        "id": "i15TD7OJaiS6",
        "outputId": "16900033-610f-49d6-db91-34cf5bdf73c0"
      },
      "outputs": [
        {
          "output_type": "stream",
          "name": "stdout",
          "text": [
            "2 5 8\n",
            "Method 1 output : [(2, 8), (5, 125), (8, 512)]\n",
            "Method 2 output : [(2, 8), (5, 125), (8, 512)]\n"
          ]
        }
      ],
      "source": [
        "\"\"\"Input: list = [1, 2, 3]\n",
        "Output: [(1, 1), (2, 8), (3, 27)]\n",
        "\n",
        "Input: list = [9, 5, 6]\n",
        "Output: [(9, 729), (5, 125), (6, 216)]\"\"\"\n",
        "\n",
        "\n",
        "# receive user input of integers separated by space\n",
        "inpList = list(map(int, list(input().split())))\n",
        "\n",
        "# method 1 - using a function to calcute cube if number and using map() function to call the cube function\n",
        "\n",
        "def cube(n):\n",
        "  return n*n*n\n",
        "\n",
        "cubeList = list(map(cube, inpList))\n",
        "mergeList = list(zip(inpList,cubeList))\n",
        "print (\"Method 1 output :\", mergeList)\n",
        "\n",
        "# method 2 - using list comprehension to calculate cube of each number in the list\n",
        "cubeList2 = [x**3 for x in inpList]\n",
        "mergeList2 = list(zip(inpList,cubeList2))\n",
        "print (\"Method 2 output :\", mergeList2)\n"
      ]
    },
    {
      "cell_type": "code",
      "source": [
        "\"\"\"\n",
        "Given two lists a, b. Check if two lists have at least one element common in them.\n",
        "\n",
        "Examples:\n",
        "\n",
        "Input : a = [1, 2, 3, 4, 5]\n",
        "        b = [5, 6, 7, 8, 9]\n",
        "Output : True\n",
        "\n",
        "Input : a=[1, 2, 3, 4, 5]\n",
        "        b=[6, 7, 8, 9]\n",
        "Output : False \"\"\"\n",
        "\n",
        "# receive user input of 2 sets of values separated by space\n",
        "aList = list(input().split())\n",
        "bList = list(input().split())\n",
        "\n",
        "# Method 1\n",
        "match = False\n",
        "\n",
        "for each in aList:\n",
        "  if not(match) and bList.count(each) > 0:\n",
        "    match = True\n",
        "\n",
        "print(match)\n",
        "\n",
        "# Method 2\n",
        "aList2 = set(aList)\n",
        "bList2 = set(bList)\n",
        "print (len(aList2.intersection(bList2)) > 0)"
      ],
      "metadata": {
        "colab": {
          "base_uri": "https://localhost:8080/"
        },
        "id": "vpcbgLajbSBt",
        "outputId": "e17d3f9c-75d3-4f27-bc21-61d04569804b"
      },
      "execution_count": null,
      "outputs": [
        {
          "output_type": "stream",
          "name": "stdout",
          "text": [
            "a 1 3\n",
            "b 0 4\n",
            "False\n",
            "False\n"
          ]
        }
      ]
    },
    {
      "cell_type": "code",
      "source": [
        "7\n",
        "8\"\"\" The original tuple is : (7, 8, 9, 1, 10, 7)\n",
        "The summation of tuple elements are : 42 \"\"\"\n",
        "\n",
        "# receive user input of integers separated by space\n",
        "myList = tuple(map(int, list(input().split())))\n",
        "\n",
        "# Method 1\n",
        "sumResult = 0\n",
        "for each in myList:\n",
        "  sumResult = sumResult + each\n",
        "\n",
        "print (sumResult)\n",
        "\n",
        "# Method 2\n",
        "print(sum(myList)) # Buildit method to sum an iterable"
      ],
      "metadata": {
        "id": "IrGitjHXb3I_",
        "colab": {
          "base_uri": "https://localhost:8080/"
        },
        "outputId": "a71d565c-a813-492a-fe91-e5694b9ee3e2"
      },
      "execution_count": null,
      "outputs": [
        {
          "output_type": "stream",
          "name": "stdout",
          "text": [
            "1 2 5 10 2\n",
            "20\n",
            "20\n"
          ]
        }
      ]
    },
    {
      "cell_type": "code",
      "source": [
        "\"\"\"Given three arrays, we have to find common elements in three sorted lists using sets.\n",
        "\n",
        "Examples :\n",
        "\n",
        "Input : ar1 = [1, 5, 10, 20, 40, 80]\n",
        "        ar2 = [6, 7, 20, 80, 100]\n",
        "        ar3 = [3, 4, 15, 20, 30, 70, 80, 120]\n",
        "\n",
        "Output : [80, 20]\n",
        "\n",
        "Input : ar1 = [1, 5, 5]\n",
        "        ar2 = [3, 4, 5, 5, 10]\n",
        "        ar3 = [5, 5, 10, 20]\n",
        "\n",
        "Output : [5]\"\"\"\n",
        "\n",
        "ar1 = [1, 5, 5]\n",
        "ar2 = [3, 4, 5, 5, 10]\n",
        "ar3 = [5, 5, 10, 20]\n",
        "\n",
        "print (set(ar1).intersection(set(ar2).intersection(set(ar3))))"
      ],
      "metadata": {
        "colab": {
          "base_uri": "https://localhost:8080/"
        },
        "id": "p86IxCCIcMMR",
        "outputId": "71249eea-6671-4b2e-ff55-a275f6d8cbf0"
      },
      "execution_count": null,
      "outputs": [
        {
          "output_type": "stream",
          "name": "stdout",
          "text": [
            "{5}\n"
          ]
        }
      ]
    },
    {
      "cell_type": "code",
      "source": [
        "\"\"\"iven a dictionary in Python, write a Python program to find the sum of all items in the dictionary.\n",
        "\n",
        "Examples: \n",
        "\n",
        "Input : {‘a’: 100, ‘b’:200, ‘c’:300}\n",
        "Output : 600\n",
        "\n",
        "Input : {‘x’: 25, ‘y’:18, ‘z’:45}\n",
        "Output : 88\"\"\"\n",
        "\n",
        "inpDict = {'a': 25, 'b':18, 'c':45}\n",
        "print (inpDict)\n",
        "\n",
        "# Method 1\n",
        "sumVal = 0\n",
        "for x in inpDict.values():\n",
        "  sumVal = sumVal + x\n",
        "\n",
        "print (sumVal)\n",
        "\n",
        "# Method 2\n",
        "print (sum(inpDict.values())) # Buildit method to sum an iterable"
      ],
      "metadata": {
        "id": "Dy6ZW83FcPgP",
        "colab": {
          "base_uri": "https://localhost:8080/"
        },
        "outputId": "5c2784ea-4638-4d80-9f72-d387389a2f1f"
      },
      "execution_count": null,
      "outputs": [
        {
          "output_type": "stream",
          "name": "stdout",
          "text": [
            "{'a': 25, 'b': 18, 'c': 45}\n",
            "88\n",
            "88\n"
          ]
        }
      ]
    },
    {
      "cell_type": "code",
      "source": [
        ""
      ],
      "metadata": {
        "id": "KNW23lVVe_u6"
      },
      "execution_count": null,
      "outputs": []
    }
  ]
}