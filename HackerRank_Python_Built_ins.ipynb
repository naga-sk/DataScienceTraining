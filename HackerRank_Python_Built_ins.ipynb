{
  "nbformat": 4,
  "nbformat_minor": 0,
  "metadata": {
    "colab": {
      "name": "HackerRank-Python-Built-ins.ipynb",
      "provenance": [],
      "authorship_tag": "ABX9TyP94zxscW+LSrMFZJdolpPL",
      "include_colab_link": true
    },
    "kernelspec": {
      "name": "python3",
      "display_name": "Python 3"
    },
    "language_info": {
      "name": "python"
    }
  },
  "cells": [
    {
      "cell_type": "markdown",
      "metadata": {
        "id": "view-in-github",
        "colab_type": "text"
      },
      "source": [
        "<a href=\"https://colab.research.google.com/github/naga-sk/DataScienceTraining/blob/main/HackerRank_Python_Built_ins.ipynb\" target=\"_parent\"><img src=\"https://colab.research.google.com/assets/colab-badge.svg\" alt=\"Open In Colab\"/></a>"
      ]
    },
    {
      "cell_type": "markdown",
      "source": [
        "# Input()\n",
        "https://www.hackerrank.com/challenges/input/problem?isFullScreen=true"
      ],
      "metadata": {
        "id": "V7h73AUnDsAc"
      }
    },
    {
      "cell_type": "code",
      "execution_count": null,
      "metadata": {
        "id": "iLph0j8QDnl2"
      },
      "outputs": [],
      "source": [
        "# Read 2 integer values\n",
        "# 'val' represents the value to be supplied to x\n",
        "# 'result' represents the result of applying 'val' to the variable x in the supplied polynomial function\n",
        "val, result = map(int, input().split())\n",
        "\n",
        "# Read the polynomial function, and replace all occurences of variable x with val\n",
        "p = input().replace('x',str(val))\n",
        "\n",
        "# Evaluate the output value of executing the polynomial function and compare it with the result value\n",
        "print (eval(p)==result)"
      ]
    }
  ]
}