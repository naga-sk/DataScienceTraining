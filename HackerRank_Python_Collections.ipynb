{
  "nbformat": 4,
  "nbformat_minor": 0,
  "metadata": {
    "colab": {
      "name": "HackerRank-Python-Collections.ipynb",
      "provenance": [],
      "collapsed_sections": [],
      "authorship_tag": "ABX9TyPUq+tL66rxdWx+0sVB8sHe",
      "include_colab_link": true
    },
    "kernelspec": {
      "name": "python3",
      "display_name": "Python 3"
    },
    "language_info": {
      "name": "python"
    }
  },
  "cells": [
    {
      "cell_type": "markdown",
      "metadata": {
        "id": "view-in-github",
        "colab_type": "text"
      },
      "source": [
        "<a href=\"https://colab.research.google.com/github/naga-sk/DataScienceTraining/blob/main/HackerRank_Python_Collections.ipynb\" target=\"_parent\"><img src=\"https://colab.research.google.com/assets/colab-badge.svg\" alt=\"Open In Colab\"/></a>"
      ]
    },
    {
      "cell_type": "markdown",
      "source": [
        "# collections.counter()\n",
        "https://www.hackerrank.com/challenges/collections-counter/problem?isFullScreen=true"
      ],
      "metadata": {
        "id": "ak51iofSbjr0"
      }
    },
    {
      "cell_type": "code",
      "source": [
        "# Method 1: Use of collections.Counter object\n",
        "from collections import Counter\n",
        "shoeCount = int(input())\n",
        "\n",
        "shoeList = list(map(int, input().split()))\n",
        "\n",
        "c = Counter(shoeList)\n",
        "\n",
        "earning = 0\n",
        "\n",
        "for x in range(int(input())):\n",
        "    shoeWanted, price = map(int, input().split())\n",
        "    if shoeWanted in c.elements():\n",
        "      earning += price\n",
        "      c.subtract([shoeWanted])\n",
        "\n",
        "#print (c.items())\n",
        "print (len(c.keys()))\n",
        "print (earning)"
      ],
      "metadata": {
        "colab": {
          "base_uri": "https://localhost:8080/"
        },
        "id": "BilOc8wygdLg",
        "outputId": "e2d0da10-76b9-42e1-e1bd-a7e5223ee5e7"
      },
      "execution_count": 33,
      "outputs": [
        {
          "output_type": "stream",
          "name": "stdout",
          "text": [
            "5\n",
            "2 3 3 4 5\n",
            "3\n",
            "3 20\n",
            "3 30\n",
            "3 40\n",
            "dict_items([(2, 1), (3, 0), (4, 1), (5, 1)])\n",
            "4\n",
            "50\n"
          ]
        }
      ]
    },
    {
      "cell_type": "code",
      "execution_count": 17,
      "metadata": {
        "colab": {
          "base_uri": "https://localhost:8080/"
        },
        "id": "L0su38YwbQR8",
        "outputId": "c538b433-33a8-4465-9696-368ead27e4a3"
      },
      "outputs": [
        {
          "output_type": "stream",
          "name": "stdout",
          "text": [
            "6\n",
            "3 4 5 6 7 8\n",
            "3\n",
            "4 10\n",
            "4 15\n",
            "6 20\n",
            "30\n"
          ]
        }
      ],
      "source": [
        "# Method 2: WITHOUT the use of collections.Counter object. Used a list instead. \n",
        "shoeCount = int(input())\n",
        "shoeList = list(map(int, input().split()))\n",
        "\n",
        "earning = 0\n",
        "\n",
        "for x in range(int(input())):\n",
        "    shoeWanted = list(map(int, input().split()))\n",
        "    if shoeWanted[0] in shoeList:\n",
        "        #print (\"Yes\")\n",
        "        earning += shoeWanted[1]\n",
        "        shoeList.remove(shoeWanted[0])\n",
        "    #else:\n",
        "        #print(\"Not Available\")\n",
        "        \n",
        "print (earning)"
      ]
    },
    {
      "cell_type": "markdown",
      "source": [
        "# Word Order\n",
        "https://www.hackerrank.com/challenges/word-order/problem?isFullScreen=true"
      ],
      "metadata": {
        "id": "p0H1wjNnb5go"
      }
    },
    {
      "cell_type": "code",
      "source": [
        "# Method 1: Use of collections.Counter object\n",
        "from collections import Counter\n",
        "\n",
        "# Collect the input in a list\n",
        "inpList = []\n",
        "for each in range(int(input())): inpList.append(input())\n",
        "\n",
        "# Pass the list to a counter object and just get a count of the number of keys using len()\n",
        "print (len(Counter(inpList).keys()))\n",
        "\n",
        "# Pass the list to a counter object and print the values returned\n",
        "# Note the use of * to return all the values to the print function. \n",
        "# Try printing without the * and it will print the entire object\n",
        "print (*Counter(inpList).values())"
      ],
      "metadata": {
        "colab": {
          "base_uri": "https://localhost:8080/"
        },
        "id": "w6AnbILWcBjP",
        "outputId": "e9b280f7-871f-4fc1-89df-18e827eafa1d"
      },
      "execution_count": 11,
      "outputs": [
        {
          "output_type": "stream",
          "name": "stdout",
          "text": [
            "4\n",
            "w\n",
            "qwe\n",
            "w\n",
            "re\n",
            "3\n",
            "2 1 1\n"
          ]
        }
      ]
    },
    {
      "cell_type": "code",
      "source": [
        "# Method 2: WITHOUT Use of collections.Counter object. \n",
        "# I had tried using list and set and it wasn't efficient both in terms of \n",
        "# lines of code as well as memory handling for larger data sets\n",
        "# Found dictionary to be ideal for this use\n",
        "\n",
        "outDict = {}\n",
        "\n",
        "# Iterate n times and collect all the string input provided\n",
        "for each in range(int(input())):\n",
        "    \n",
        "    # this collect the next string\n",
        "    newStr = input()\n",
        "\n",
        "    # If the collected string is not in the dictionary\n",
        "    if newStr not in outDict.keys():\n",
        "\n",
        "      # add it as new key to the dictionary and set is value as 1 (for count)\n",
        "      outDict[newStr] = 1\n",
        "    else:\n",
        "\n",
        "      # Increment the existing value of the string key by 1\n",
        "      outDict.update({newStr:outDict[newStr]+1})\n",
        "\n",
        "# print the total number of keys in the dictionary\n",
        "print (len(outDict))\n",
        "\n",
        "# Print all the values in the dictionary\n",
        "# Note the use of * to return all the values to the print function. \n",
        "# Try printing without the * and it will print the entire object\n",
        "print (*outDict.values())"
      ],
      "metadata": {
        "colab": {
          "base_uri": "https://localhost:8080/"
        },
        "id": "5MlYiryYbilQ",
        "outputId": "30a9692a-4c32-41bb-978e-0cf87ae8beb1"
      },
      "execution_count": 15,
      "outputs": [
        {
          "output_type": "stream",
          "name": "stdout",
          "text": [
            "4\n",
            "a\n",
            "as\n",
            "a\n",
            "add\n",
            "3\n",
            "2 1 1\n"
          ]
        }
      ]
    },
    {
      "cell_type": "code",
      "source": [
        ""
      ],
      "metadata": {
        "id": "Ee-dhSBUeQsJ"
      },
      "execution_count": null,
      "outputs": []
    }
  ]
}