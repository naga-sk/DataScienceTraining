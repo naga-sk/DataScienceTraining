{
  "cells": [
    {
      "cell_type": "markdown",
      "metadata": {
        "id": "view-in-github",
        "colab_type": "text"
      },
      "source": [
        "<a href=\"https://colab.research.google.com/github/naga-sk/DataScienceTraining/blob/main/Numpy_Assignment.ipynb\" target=\"_parent\"><img src=\"https://colab.research.google.com/assets/colab-badge.svg\" alt=\"Open In Colab\"/></a>"
      ]
    },
    {
      "cell_type": "markdown",
      "id": "96443564",
      "metadata": {
        "id": "96443564"
      },
      "source": [
        "#### 1. Import the numpy package under the name `np` (★☆☆)"
      ]
    },
    {
      "cell_type": "code",
      "execution_count": null,
      "id": "ffe1047e",
      "metadata": {
        "id": "ffe1047e"
      },
      "outputs": [],
      "source": [
        "import numpy as np"
      ]
    },
    {
      "cell_type": "markdown",
      "id": "c807bf1d",
      "metadata": {
        "id": "c807bf1d"
      },
      "source": [
        "#### 2. Print the numpy version"
      ]
    },
    {
      "cell_type": "code",
      "execution_count": null,
      "id": "f396b717",
      "metadata": {
        "id": "f396b717",
        "colab": {
          "base_uri": "https://localhost:8080/",
          "height": 36
        },
        "outputId": "6ba8727c-0834-465a-ba25-0455e5bb0eaa"
      },
      "outputs": [
        {
          "output_type": "execute_result",
          "data": {
            "text/plain": [
              "'1.21.6'"
            ],
            "application/vnd.google.colaboratory.intrinsic+json": {
              "type": "string"
            }
          },
          "metadata": {},
          "execution_count": 6
        }
      ],
      "source": [
        "np.__version__"
      ]
    },
    {
      "cell_type": "markdown",
      "id": "572c1bdb",
      "metadata": {
        "id": "572c1bdb"
      },
      "source": [
        "#### 3. Create a null vector of size 10 (★☆☆)"
      ]
    },
    {
      "cell_type": "code",
      "source": [
        "nvec = np.zeros(10)\n",
        "print(nvec)\n",
        "print(nvec.dtype)"
      ],
      "metadata": {
        "colab": {
          "base_uri": "https://localhost:8080/"
        },
        "id": "ef76OAXXTSsL",
        "outputId": "3d86a414-73e1-4400-afad-3ad62d4b1ba8"
      },
      "id": "ef76OAXXTSsL",
      "execution_count": null,
      "outputs": [
        {
          "output_type": "stream",
          "name": "stdout",
          "text": [
            "[0. 0. 0. 0. 0. 0. 0. 0. 0. 0.]\n",
            "float64\n"
          ]
        }
      ]
    },
    {
      "cell_type": "code",
      "execution_count": null,
      "id": "31c9f6a5",
      "metadata": {
        "id": "31c9f6a5",
        "colab": {
          "base_uri": "https://localhost:8080/"
        },
        "outputId": "f41be39c-56e0-4bc3-bc56-d25c797d9718"
      },
      "outputs": [
        {
          "output_type": "execute_result",
          "data": {
            "text/plain": [
              "0"
            ]
          },
          "metadata": {},
          "execution_count": 18
        }
      ],
      "source": [
        "arr = np.array(10)\n",
        "arr.itemsize\n",
        "arr.ndim"
      ]
    },
    {
      "cell_type": "code",
      "source": [
        "arr1 = np.array([1,2,3])\n",
        "arr1.size\n",
        "arr1.ndim"
      ],
      "metadata": {
        "colab": {
          "base_uri": "https://localhost:8080/"
        },
        "id": "MlnNa9yZGD5n",
        "outputId": "12d39be4-c803-4fc7-bb38-f0351e664d7b"
      },
      "id": "MlnNa9yZGD5n",
      "execution_count": null,
      "outputs": [
        {
          "output_type": "execute_result",
          "data": {
            "text/plain": [
              "1"
            ]
          },
          "metadata": {},
          "execution_count": 17
        }
      ]
    },
    {
      "cell_type": "code",
      "execution_count": null,
      "id": "593cd80f",
      "metadata": {
        "id": "593cd80f"
      },
      "outputs": [],
      "source": [
        "#Problem 4: Given a numpy array whose underlying data is of 'int32' type. Change the dtype of the given object to 'float64'."
      ]
    },
    {
      "cell_type": "markdown",
      "id": "3add7101",
      "metadata": {
        "id": "3add7101"
      },
      "source": [
        "6. Create a null vector of size 10 but the fifth value which is 1 (★☆☆)"
      ]
    },
    {
      "cell_type": "code",
      "source": [
        "nvec = np.zeros(10)\n",
        "nvec[4] = 1\n",
        "print(nvec)"
      ],
      "metadata": {
        "colab": {
          "base_uri": "https://localhost:8080/"
        },
        "id": "ji6mAnEaTze8",
        "outputId": "7229db55-64cd-4d16-8be2-b6f7cf0e5e89"
      },
      "id": "ji6mAnEaTze8",
      "execution_count": null,
      "outputs": [
        {
          "output_type": "stream",
          "name": "stdout",
          "text": [
            "[0. 0. 0. 0. 1. 0. 0. 0. 0. 0.]\n",
            "float64\n"
          ]
        }
      ]
    },
    {
      "cell_type": "markdown",
      "source": [
        "#### 4. Numpy where Problem\n",
        "\n",
        "Say we have a numpy array A \n",
        "\n",
        "[[1 2 3]\n",
        " [4 5 6]]\n",
        "\n",
        "Create a new matrix with Indices of elements <4\n",
        "\n",
        "Output\n",
        "Elements which are <4\n",
        "array([1, 2, 3])"
      ],
      "metadata": {
        "id": "hgzPXMtJ5i5v"
      },
      "id": "hgzPXMtJ5i5v"
    },
    {
      "cell_type": "code",
      "execution_count": null,
      "id": "2edf3c42",
      "metadata": {
        "id": "2edf3c42",
        "colab": {
          "base_uri": "https://localhost:8080/"
        },
        "outputId": "9f066f87-b013-4dae-cc1f-80e3eabea0b7"
      },
      "outputs": [
        {
          "output_type": "stream",
          "name": "stdout",
          "text": [
            "[1 2 3]\n"
          ]
        }
      ],
      "source": [
        "arr = np.array([[1,2,3],[4,5,6]])\n",
        "print(arr[arr < 4])\n"
      ]
    },
    {
      "cell_type": "markdown",
      "id": "cfc46304",
      "metadata": {
        "id": "cfc46304"
      },
      "source": [
        "#### 5. Create a vector with values ranging from 10 to 49 (★☆☆)"
      ]
    },
    {
      "cell_type": "code",
      "execution_count": null,
      "id": "d8b86640",
      "metadata": {
        "id": "d8b86640",
        "colab": {
          "base_uri": "https://localhost:8080/"
        },
        "outputId": "94f9e3ec-5222-4354-e501-3e063c9d5e48"
      },
      "outputs": [
        {
          "output_type": "stream",
          "name": "stdout",
          "text": [
            "[10 11 12 13 14 15 16 17 18 19 20 21 22 23 24 25 26 27 28 29 30 31 32 33\n",
            " 34 35 36 37 38 39 40 41 42 43 44 45 46 47 48 49]\n"
          ]
        }
      ],
      "source": [
        "arr = np.arange(10,50)\n",
        "print(arr)"
      ]
    },
    {
      "cell_type": "markdown",
      "id": "0cc200be",
      "metadata": {
        "id": "0cc200be"
      },
      "source": [
        "#### 6. Reverse a vector (first element becomes last) (★☆☆)"
      ]
    },
    {
      "cell_type": "code",
      "execution_count": null,
      "id": "ec044bb5",
      "metadata": {
        "id": "ec044bb5",
        "colab": {
          "base_uri": "https://localhost:8080/"
        },
        "outputId": "809c6593-9cc3-45e0-d4ad-219dc99a298c"
      },
      "outputs": [
        {
          "output_type": "stream",
          "name": "stdout",
          "text": [
            "[10 11 12 13 14 15 16 17 18 19]\n",
            "[19 18 17 16 15 14 13 12 11 10]\n",
            "[19 18 17 16 15 14 13 12 11 10]\n"
          ]
        }
      ],
      "source": [
        "arr = np.arange(10,20)\n",
        "print(arr)\n",
        "\n",
        "# Method 1 to print in reverse order using range reversal\n",
        "rev1 = arr[::-1] \n",
        "print(rev1)\n",
        "\n",
        "# Method 2 to first reverse the order using a function and then print\n",
        "rev2 = np.flip(arr)\n",
        "print(rev2)"
      ]
    },
    {
      "cell_type": "markdown",
      "id": "29d9ede4",
      "metadata": {
        "id": "29d9ede4"
      },
      "source": [
        "#### 7. Create a 3x3 matrix with values ranging from 0 to 8 (★☆☆)"
      ]
    },
    {
      "cell_type": "code",
      "execution_count": null,
      "id": "d9e39043",
      "metadata": {
        "id": "d9e39043",
        "colab": {
          "base_uri": "https://localhost:8080/"
        },
        "outputId": "e62d7539-695b-4ff1-b8c3-c680f0f3f2f4"
      },
      "outputs": [
        {
          "output_type": "stream",
          "name": "stdout",
          "text": [
            "[0 1 2 3 4 5 6 7 8]\n",
            "[[0 1 2]\n",
            " [3 4 5]\n",
            " [6 7 8]]\n"
          ]
        },
        {
          "output_type": "execute_result",
          "data": {
            "text/plain": [
              "array([[0, 1, 2],\n",
              "       [3, 4, 5],\n",
              "       [6, 7, 8]])"
            ]
          },
          "metadata": {},
          "execution_count": 53
        }
      ],
      "source": [
        "arr = np.arange(0,9)\n",
        "print(arr)\n",
        "\n",
        "three = arr.reshape(3,3)\n",
        "print(three)"
      ]
    },
    {
      "cell_type": "markdown",
      "id": "88905ceb",
      "metadata": {
        "id": "88905ceb"
      },
      "source": [
        "#### 8. Find indices of non-zero elements from [1,2,0,0,4,0] (★☆☆)"
      ]
    },
    {
      "cell_type": "code",
      "execution_count": null,
      "id": "b2f3c90a",
      "metadata": {
        "id": "b2f3c90a",
        "colab": {
          "base_uri": "https://localhost:8080/"
        },
        "outputId": "39c81a93-5d23-402f-dfa0-5cb7ade37731"
      },
      "outputs": [
        {
          "output_type": "stream",
          "name": "stdout",
          "text": [
            "(array([0, 1, 4]),)\n",
            "[1 2 4]\n"
          ]
        }
      ],
      "source": [
        "from numpy.core.numeric import indices\n",
        "arr = np.array([1,2,0,0,4,0])\n",
        "zerInd = np.nonzero(arr)\n",
        "print (zerInd)\n",
        "\n",
        "#This prints the elements that are not zero\n",
        "a = arr[arr != 0]\n",
        "print(a)"
      ]
    },
    {
      "cell_type": "markdown",
      "id": "49603e91",
      "metadata": {
        "id": "49603e91"
      },
      "source": [
        "#### 11. Create a 3x3 identity matrix (★☆☆)"
      ]
    },
    {
      "cell_type": "code",
      "execution_count": 2,
      "id": "5b607b5c",
      "metadata": {
        "id": "5b607b5c",
        "colab": {
          "base_uri": "https://localhost:8080/"
        },
        "outputId": "67dd0901-32e5-48c1-fd5e-bb5b561eb2d4"
      },
      "outputs": [
        {
          "output_type": "stream",
          "name": "stdout",
          "text": [
            "[[1 0 0]\n",
            " [0 1 0]\n",
            " [0 0 1]]\n"
          ]
        }
      ],
      "source": [
        "import numpy as np\n",
        "arr = np.identity(3, dtype=int)\n",
        "print(arr)"
      ]
    },
    {
      "cell_type": "code",
      "source": [
        "import numpy as np\n",
        "a=np.eye(3,3)\n",
        "print(a)"
      ],
      "metadata": {
        "colab": {
          "base_uri": "https://localhost:8080/"
        },
        "id": "PTyKMTzerTIb",
        "outputId": "05b7437a-0c23-46ea-ff74-2c34caf202f6"
      },
      "id": "PTyKMTzerTIb",
      "execution_count": 3,
      "outputs": [
        {
          "output_type": "stream",
          "name": "stdout",
          "text": [
            "[[1. 0. 0.]\n",
            " [0. 1. 0.]\n",
            " [0. 0. 1.]]\n"
          ]
        }
      ]
    },
    {
      "cell_type": "markdown",
      "id": "e15c249a",
      "metadata": {
        "id": "e15c249a"
      },
      "source": [
        "#### 12. Create a 3x3x3 array with random values (★☆☆)"
      ]
    },
    {
      "cell_type": "code",
      "execution_count": 6,
      "id": "ab21ed50",
      "metadata": {
        "id": "ab21ed50",
        "colab": {
          "base_uri": "https://localhost:8080/"
        },
        "outputId": "3d047ee8-1fa9-4f6c-cbb0-cd1fb84240ad"
      },
      "outputs": [
        {
          "output_type": "stream",
          "name": "stdout",
          "text": [
            "[[[0.28273073 0.77022699 0.31004234]\n",
            "  [0.63399767 0.63494803 0.26766493]\n",
            "  [0.97742993 0.41343739 0.29823495]]\n",
            "\n",
            " [[0.47115633 0.97897842 0.57721438]\n",
            "  [0.49938309 0.87004248 0.78001514]\n",
            "  [0.61497085 0.38426357 0.21167658]]\n",
            "\n",
            " [[0.93710742 0.26813669 0.71703958]\n",
            "  [0.21376323 0.55343359 0.33807667]\n",
            "  [0.93278225 0.07123021 0.72150396]]]\n"
          ]
        }
      ],
      "source": [
        "y = np.random.random(size=(3,3,3))\n",
        "print(y)"
      ]
    },
    {
      "cell_type": "code",
      "source": [
        "x = np.random.randint(10, size=(3,3,3))\n",
        "print(x)"
      ],
      "metadata": {
        "colab": {
          "base_uri": "https://localhost:8080/"
        },
        "id": "1ZLlGcQ7RmZU",
        "outputId": "a0bb10ff-3231-45ae-ce1f-86d9c73bc633"
      },
      "id": "1ZLlGcQ7RmZU",
      "execution_count": 7,
      "outputs": [
        {
          "output_type": "stream",
          "name": "stdout",
          "text": [
            "[[[9 2 0]\n",
            "  [9 1 6]\n",
            "  [3 6 9]]\n",
            "\n",
            " [[6 8 0]\n",
            "  [0 7 0]\n",
            "  [7 5 7]]\n",
            "\n",
            " [[0 1 3]\n",
            "  [1 5 9]\n",
            "  [0 1 4]]]\n"
          ]
        }
      ]
    },
    {
      "cell_type": "code",
      "source": [
        "a=np.random.randint(1,50,(3,3,3))\n",
        "print(a)"
      ],
      "metadata": {
        "colab": {
          "base_uri": "https://localhost:8080/"
        },
        "id": "MCIh22SZraBp",
        "outputId": "ea637c0a-0609-466b-ebb5-40ca11473654"
      },
      "id": "MCIh22SZraBp",
      "execution_count": 8,
      "outputs": [
        {
          "output_type": "stream",
          "name": "stdout",
          "text": [
            "[[[44 31  2]\n",
            "  [12 22 12]\n",
            "  [21 43 33]]\n",
            "\n",
            " [[27 28 24]\n",
            "  [ 4 16 11]\n",
            "  [47 12 13]]\n",
            "\n",
            " [[ 7  2 41]\n",
            "  [45 18 36]\n",
            "  [23  1 46]]]\n"
          ]
        }
      ]
    },
    {
      "cell_type": "markdown",
      "id": "157a129c",
      "metadata": {
        "id": "157a129c"
      },
      "source": [
        "#### 13. Create a 10x10 array with random values and find the minimum and maximum values (★☆☆)"
      ]
    },
    {
      "cell_type": "code",
      "execution_count": null,
      "id": "c0066de5",
      "metadata": {
        "id": "c0066de5",
        "colab": {
          "base_uri": "https://localhost:8080/"
        },
        "outputId": "55ee7e89-4929-46e1-87c2-5515e18e35ad"
      },
      "outputs": [
        {
          "output_type": "stream",
          "name": "stdout",
          "text": [
            "[[ 66  99 495 409 455 213 394 997  17 382]\n",
            " [129 183 763 114 350 900 697 506 224 372]\n",
            " [335 492 983 664 261 794  55 912 331 137]\n",
            " [434 704 112 433 901 252 301 796 962 335]\n",
            " [607 650  53 181 581 265 846  79 292 673]\n",
            " [829 580  53 126 658 337  71 727 641 969]\n",
            " [383 661 671 643 913 911 291 533 323 209]\n",
            " [831 845 515 881  32 431 903  51 633 258]\n",
            " [248 445 637 832 468 669 445 585 395 316]\n",
            " [651 680 136 434 488 880 837 133 864 638]]\n",
            "997\n",
            "17\n"
          ]
        }
      ],
      "source": [
        "x = np.random.randint(1000, size=(10,10))\n",
        "print(x)\n",
        "\n",
        "print(np.amax(x))\n",
        "print(np.amin(x))"
      ]
    },
    {
      "cell_type": "markdown",
      "id": "d92d7b32",
      "metadata": {
        "id": "d92d7b32"
      },
      "source": [
        "#### 14. Create a random vector of size 30 and find the mean value (★☆☆)"
      ]
    },
    {
      "cell_type": "code",
      "execution_count": 14,
      "id": "9672d023",
      "metadata": {
        "id": "9672d023",
        "colab": {
          "base_uri": "https://localhost:8080/"
        },
        "outputId": "e57ef9c0-ca44-474f-8c61-b91730bf9723"
      },
      "outputs": [
        {
          "output_type": "stream",
          "name": "stdout",
          "text": [
            "[20 24 11  7 28  3 12 20  3  7 27 12 13 13 21 27 17  8 23  1 20 20  1 10\n",
            "  1 25 14 22 27 14]\n",
            "15.033333333333333\n"
          ]
        }
      ],
      "source": [
        "x = np.random.randint(30, size=30)\n",
        "print(x)\n",
        "\n",
        "print(np.mean(x))"
      ]
    },
    {
      "cell_type": "markdown",
      "id": "f361efc0",
      "metadata": {
        "id": "f361efc0"
      },
      "source": [
        "#### 15. Create a 2d array with 1 on the border and 0 inside (★☆☆)"
      ]
    },
    {
      "cell_type": "code",
      "execution_count": 15,
      "id": "a55b6666",
      "metadata": {
        "id": "a55b6666",
        "colab": {
          "base_uri": "https://localhost:8080/"
        },
        "outputId": "2a29aa73-2fd1-4516-e0c9-c2f0c393daba"
      },
      "outputs": [
        {
          "output_type": "stream",
          "name": "stdout",
          "text": [
            "[[1. 1. 1. 1.]\n",
            " [1. 1. 1. 1.]\n",
            " [1. 1. 1. 1.]\n",
            " [1. 1. 1. 1.]]\n",
            "[[1. 1. 1. 1.]\n",
            " [1. 0. 0. 1.]\n",
            " [1. 0. 0. 1.]\n",
            " [1. 1. 1. 1.]]\n"
          ]
        }
      ],
      "source": [
        "import numpy as np\n",
        "x = np.ones((4,4))\n",
        "print(x)\n",
        "x[1:-1,1:-1] = 0\n",
        "print(x)"
      ]
    },
    {
      "cell_type": "markdown",
      "id": "475808cb",
      "metadata": {
        "id": "475808cb"
      },
      "source": [
        "#### 16. How to add a border (filled with 0's) around an existing array? (★☆☆)"
      ]
    },
    {
      "cell_type": "code",
      "execution_count": 16,
      "id": "b2df3a8a",
      "metadata": {
        "id": "b2df3a8a",
        "colab": {
          "base_uri": "https://localhost:8080/"
        },
        "outputId": "7489b8ac-56e7-4d4f-b749-5c5e053baaf6"
      },
      "outputs": [
        {
          "output_type": "stream",
          "name": "stdout",
          "text": [
            "[[1. 1. 1. 1.]\n",
            " [1. 1. 1. 1.]\n",
            " [1. 1. 1. 1.]\n",
            " [1. 1. 1. 1.]]\n",
            "[[0. 0. 0. 0. 0. 0.]\n",
            " [0. 1. 1. 1. 1. 0.]\n",
            " [0. 1. 1. 1. 1. 0.]\n",
            " [0. 1. 1. 1. 1. 0.]\n",
            " [0. 1. 1. 1. 1. 0.]\n",
            " [0. 0. 0. 0. 0. 0.]]\n"
          ]
        }
      ],
      "source": [
        "import numpy as np\n",
        "x = np.ones((4,4))\n",
        "print(x)\n",
        "x = np.pad(x, pad_width=1, mode='constant', constant_values=0)\n",
        "print(x)"
      ]
    },
    {
      "cell_type": "markdown",
      "id": "1af07d85",
      "metadata": {
        "id": "1af07d85"
      },
      "source": [
        "#### 17. What is the result of the following expression? (★☆☆)\n",
        "```python\n",
        "0 * np.nan\n",
        "np.nan == np.nan\n",
        "np.inf > np.nan\n",
        "np.nan - np.nan\n",
        "np.nan in set([np.nan])\n",
        "0.3 == 3 * 0.1\n",
        "```"
      ]
    },
    {
      "cell_type": "code",
      "execution_count": 17,
      "id": "109cf327",
      "metadata": {
        "id": "109cf327",
        "colab": {
          "base_uri": "https://localhost:8080/"
        },
        "outputId": "3317a51a-fb64-463d-fad2-f5702cf56512"
      },
      "outputs": [
        {
          "output_type": "execute_result",
          "data": {
            "text/plain": [
              "nan"
            ]
          },
          "metadata": {},
          "execution_count": 17
        }
      ],
      "source": [
        "0 * np.nan"
      ]
    },
    {
      "cell_type": "code",
      "source": [
        "np.nan == np.nan"
      ],
      "metadata": {
        "colab": {
          "base_uri": "https://localhost:8080/"
        },
        "id": "DlzfVXYMb2uc",
        "outputId": "773c936d-3a18-4a38-8c0e-2d4e9ce34655"
      },
      "id": "DlzfVXYMb2uc",
      "execution_count": 18,
      "outputs": [
        {
          "output_type": "execute_result",
          "data": {
            "text/plain": [
              "False"
            ]
          },
          "metadata": {},
          "execution_count": 18
        }
      ]
    },
    {
      "cell_type": "code",
      "source": [
        "np.inf > np.nan"
      ],
      "metadata": {
        "colab": {
          "base_uri": "https://localhost:8080/"
        },
        "id": "zdAuezZFb26X",
        "outputId": "20ea3293-ac9a-485d-a42c-05786934fbaf"
      },
      "id": "zdAuezZFb26X",
      "execution_count": 19,
      "outputs": [
        {
          "output_type": "execute_result",
          "data": {
            "text/plain": [
              "False"
            ]
          },
          "metadata": {},
          "execution_count": 19
        }
      ]
    },
    {
      "cell_type": "code",
      "source": [
        "np.nan - np.nan"
      ],
      "metadata": {
        "colab": {
          "base_uri": "https://localhost:8080/"
        },
        "id": "N3uN6-Czb3Ga",
        "outputId": "47e1693e-c0bc-4bc9-b4fc-2c412a93a378"
      },
      "id": "N3uN6-Czb3Ga",
      "execution_count": 20,
      "outputs": [
        {
          "output_type": "execute_result",
          "data": {
            "text/plain": [
              "nan"
            ]
          },
          "metadata": {},
          "execution_count": 20
        }
      ]
    },
    {
      "cell_type": "code",
      "source": [
        "np.nan in set([np.nan])"
      ],
      "metadata": {
        "colab": {
          "base_uri": "https://localhost:8080/"
        },
        "id": "tiSN6YiBb3Pa",
        "outputId": "24d6f81f-1d40-47e0-f9bc-5b0b494004d5"
      },
      "id": "tiSN6YiBb3Pa",
      "execution_count": 21,
      "outputs": [
        {
          "output_type": "execute_result",
          "data": {
            "text/plain": [
              "True"
            ]
          },
          "metadata": {},
          "execution_count": 21
        }
      ]
    },
    {
      "cell_type": "code",
      "source": [
        "0.3 == 3 * 0.1"
      ],
      "metadata": {
        "colab": {
          "base_uri": "https://localhost:8080/"
        },
        "id": "auseSXQVb-fv",
        "outputId": "7d2501a6-2516-45a8-df75-3f32378065b7"
      },
      "id": "auseSXQVb-fv",
      "execution_count": 22,
      "outputs": [
        {
          "output_type": "execute_result",
          "data": {
            "text/plain": [
              "False"
            ]
          },
          "metadata": {},
          "execution_count": 22
        }
      ]
    },
    {
      "cell_type": "markdown",
      "id": "6a235316",
      "metadata": {
        "id": "6a235316"
      },
      "source": [
        "#### 18. Create a 4x4 matrix with values 0,1,2,3 just below the diagonal (★☆☆)"
      ]
    },
    {
      "cell_type": "code",
      "execution_count": 24,
      "id": "f2e6cfa6",
      "metadata": {
        "id": "f2e6cfa6",
        "colab": {
          "base_uri": "https://localhost:8080/"
        },
        "outputId": "ea1f99c7-81c4-45c3-e00d-75d492667423"
      },
      "outputs": [
        {
          "output_type": "stream",
          "name": "stdout",
          "text": [
            "[[0 0 0 0 0 0]\n",
            " [1 0 0 0 0 0]\n",
            " [0 2 0 0 0 0]\n",
            " [0 0 3 0 0 0]\n",
            " [0 0 0 4 0 0]\n",
            " [0 0 0 0 5 0]]\n"
          ]
        }
      ],
      "source": [
        "import numpy as np\n",
        "arr = np.diag([1, 2, 3, 4, 5],-1)\n",
        "print(arr)"
      ]
    },
    {
      "cell_type": "markdown",
      "id": "25362e98",
      "metadata": {
        "id": "25362e98"
      },
      "source": [
        "#### 19. Create a null vector of size 10 but the fifth value which is 1 (★☆☆)\n",
        "\n"
      ]
    },
    {
      "cell_type": "code",
      "source": [
        "nvec = np.zeros(10, dtype=int)\n",
        "print(nvec)\n",
        "\n",
        "nvec[4] = 5\n",
        "print(nvec)"
      ],
      "metadata": {
        "colab": {
          "base_uri": "https://localhost:8080/"
        },
        "id": "mUwBYfBWTp66",
        "outputId": "f9581e98-f841-404f-d5bd-7355facf3849"
      },
      "id": "mUwBYfBWTp66",
      "execution_count": 25,
      "outputs": [
        {
          "output_type": "stream",
          "name": "stdout",
          "text": [
            "[0 0 0 0 0 0 0 0 0 0]\n",
            "[0 0 0 0 5 0 0 0 0 0]\n"
          ]
        }
      ]
    },
    {
      "cell_type": "markdown",
      "id": "fd88b3f4",
      "metadata": {
        "id": "fd88b3f4"
      },
      "source": [
        "#### 22. Normalize a 5x5 random matrix (★☆☆) \n",
        "Say X is 5*5 numpy array  Normalize i.e X - mean(X) / Standard Deviation of X"
      ]
    },
    {
      "cell_type": "code",
      "execution_count": 28,
      "id": "ee6ced60",
      "metadata": {
        "id": "ee6ced60",
        "colab": {
          "base_uri": "https://localhost:8080/"
        },
        "outputId": "481dd4f0-d03e-47d8-df7f-d48ec793a023"
      },
      "outputs": [
        {
          "output_type": "stream",
          "name": "stdout",
          "text": [
            "[[91 61 67 86 65]\n",
            " [ 7 14 16 88 16]\n",
            " [59 23 26 18 81]\n",
            " [90 20 76 80 70]\n",
            " [80  6 87 25 49]]\n",
            "[[ 1.28205181  0.29484559  0.49228684  1.11751744  0.42647309]\n",
            " [-1.48212561 -1.25177749 -1.18596374  1.18333119 -1.18596374]\n",
            " [ 0.22903184 -0.95561562 -0.856895   -1.12014999  0.95298307]\n",
            " [ 1.24914494 -1.05433624  0.7884487   0.9200762   0.59100746]\n",
            " [ 0.9200762  -1.51503248  1.15042432 -0.88980187 -0.1000369 ]]\n"
          ]
        }
      ],
      "source": [
        "import numpy as np\n",
        "x= np.random.randint(100, size=(5,5))\n",
        "print(x)\n",
        "\n",
        "xmean, xsd = np.mean(x), np.std(x)\n",
        "x = (x - xmean)/xsd\n",
        "print(x)"
      ]
    },
    {
      "cell_type": "markdown",
      "id": "06c63bb3",
      "metadata": {
        "id": "06c63bb3"
      },
      "source": [
        "#### 24. Do a dot product of 5x3 matrix by a 3x2 matrix (real matrix product) (★☆☆)"
      ]
    },
    {
      "cell_type": "code",
      "execution_count": 33,
      "id": "9fc0d553",
      "metadata": {
        "id": "9fc0d553",
        "colab": {
          "base_uri": "https://localhost:8080/"
        },
        "outputId": "978d9614-5d32-4772-cbfc-dc6866d6ce39"
      },
      "outputs": [
        {
          "output_type": "stream",
          "name": "stdout",
          "text": [
            "[[ 8  7 12]\n",
            " [ 1  9  9]\n",
            " [ 6  4  3]\n",
            " [ 6  7 10]\n",
            " [ 5  4 10]]\n"
          ]
        }
      ],
      "source": [
        "a = np.random.randint(15, size=(5,3))\n",
        "print(a)"
      ]
    },
    {
      "cell_type": "code",
      "execution_count": 34,
      "id": "0e25eca7",
      "metadata": {
        "id": "0e25eca7",
        "colab": {
          "base_uri": "https://localhost:8080/"
        },
        "outputId": "f0eabc09-d161-4ecb-da85-c6e8ee3d4466"
      },
      "outputs": [
        {
          "output_type": "stream",
          "name": "stdout",
          "text": [
            "[[ 6 14]\n",
            " [ 9  2]\n",
            " [13  4]]\n"
          ]
        }
      ],
      "source": [
        "b = np.random.randint(15, size=(3,2))\n",
        "print(b)"
      ]
    },
    {
      "cell_type": "code",
      "execution_count": 35,
      "id": "93684068",
      "metadata": {
        "id": "93684068",
        "colab": {
          "base_uri": "https://localhost:8080/"
        },
        "outputId": "411dcc72-f80a-4d9f-bff6-a063b3a27609"
      },
      "outputs": [
        {
          "output_type": "stream",
          "name": "stdout",
          "text": [
            "[[267 174]\n",
            " [204  68]\n",
            " [111 104]\n",
            " [229 138]\n",
            " [196 118]]\n"
          ]
        }
      ],
      "source": [
        "print(np.dot(a, b))\n",
        "# print(np.dot(b, a)) - This is not possible since the dimensions don't align"
      ]
    },
    {
      "cell_type": "markdown",
      "id": "539cd2a5",
      "metadata": {
        "id": "539cd2a5"
      },
      "source": [
        "#### 25. Consider two random array A and B, check if they are equal (★★☆)"
      ]
    },
    {
      "cell_type": "code",
      "execution_count": 37,
      "id": "5246d7bf",
      "metadata": {
        "id": "5246d7bf",
        "colab": {
          "base_uri": "https://localhost:8080/"
        },
        "outputId": "86d8b1c0-afc6-4d18-931e-1c88b6b94c45"
      },
      "outputs": [
        {
          "output_type": "stream",
          "name": "stdout",
          "text": [
            "[[8 5 6]\n",
            " [4 5 3]\n",
            " [8 8 6]]\n",
            "[[0 5 9]\n",
            " [4 9 2]\n",
            " [9 0 8]]\n"
          ]
        },
        {
          "output_type": "execute_result",
          "data": {
            "text/plain": [
              "array([[False,  True, False],\n",
              "       [ True, False, False],\n",
              "       [False, False, False]])"
            ]
          },
          "metadata": {},
          "execution_count": 37
        }
      ],
      "source": [
        "a = np.random.randint(10, size=(3,3))\n",
        "print(a)\n",
        "b = np.random.randint(10, size=(3,3))\n",
        "print(b)\n",
        "np.equal(a,b)"
      ]
    },
    {
      "cell_type": "markdown",
      "id": "a556027a",
      "metadata": {
        "id": "a556027a"
      },
      "source": [
        "#### 26. Create random vector of size 10 and replace the maximum value by 0 (★★☆)"
      ]
    },
    {
      "cell_type": "code",
      "execution_count": 44,
      "id": "9e07cb87",
      "metadata": {
        "id": "9e07cb87",
        "colab": {
          "base_uri": "https://localhost:8080/"
        },
        "outputId": "448ca3a6-fc81-4bb4-c643-5d4f264473d4"
      },
      "outputs": [
        {
          "output_type": "stream",
          "name": "stdout",
          "text": [
            "[1 3 7 6 3 7 7 6 1 0]\n",
            "[1 3 0 6 3 7 7 6 1 0]\n"
          ]
        }
      ],
      "source": [
        "a = np.random.randint(10, size=10)\n",
        "print(a)\n",
        "a[np.argmax(a)] = 0\n",
        "print(a)"
      ]
    },
    {
      "cell_type": "markdown",
      "id": "bfd2513c",
      "metadata": {
        "id": "bfd2513c"
      },
      "source": [
        "#### 27. Subtract the mean of each row of a matrix (★★☆):"
      ]
    },
    {
      "cell_type": "code",
      "source": [
        "a = np.random.randint(10, size=(3,3))\n",
        "print(a)\n",
        "\n",
        "mean = np.mean(a, axis=1)\n",
        "print(mean)\n",
        "\n",
        "a = a-mean\n",
        "print (a)"
      ],
      "metadata": {
        "colab": {
          "base_uri": "https://localhost:8080/"
        },
        "id": "13-kpOETTjgS",
        "outputId": "682fcdd3-9fbe-4af8-bfb4-f76c26c72d6d"
      },
      "id": "13-kpOETTjgS",
      "execution_count": 49,
      "outputs": [
        {
          "output_type": "stream",
          "name": "stdout",
          "text": [
            "[[7 9 2]\n",
            " [7 5 1]\n",
            " [8 8 5]]\n",
            "[6.         4.33333333 7.        ]\n",
            "[[ 1.          4.66666667 -5.        ]\n",
            " [ 1.          0.66666667 -6.        ]\n",
            " [ 2.          3.66666667 -2.        ]]\n"
          ]
        }
      ]
    }
  ],
  "metadata": {
    "colab": {
      "name": "Numpy_Assignment.ipynb",
      "provenance": [],
      "collapsed_sections": [
        "88905ceb",
        "49603e91",
        "e15c249a",
        "157a129c",
        "d92d7b32",
        "f361efc0",
        "475808cb",
        "1af07d85",
        "6a235316",
        "464d8590"
      ],
      "include_colab_link": true
    },
    "language_info": {
      "name": "python"
    },
    "kernelspec": {
      "name": "python3",
      "display_name": "Python 3"
    },
    "gpuClass": "standard",
    "accelerator": "GPU"
  },
  "nbformat": 4,
  "nbformat_minor": 5
}